{
 "cells": [
  {
   "cell_type": "markdown",
   "metadata": {},
   "source": [
    "# IMPORTS AND STATIC STUFF"
   ]
  },
  {
   "cell_type": "code",
   "execution_count": 1,
   "metadata": {},
   "outputs": [
    {
     "name": "stdout",
     "output_type": "stream",
     "text": [
      "GPU device detected: cuda\n"
     ]
    }
   ],
   "source": [
    "from src.main import StructureData, AntiInterNet, AntiScout\n",
    "\n",
    "from pathlib import Path\n",
    "PDBDIR = Path(\"/home/projects/vaccine/people/joacli/AntiInterNet-1.0/sample_pdbs\")\n",
    "ENCDIR = Path(\"/home/projects/vaccine/people/joacli/AntiInterNet-1.0/output/encodings\")\n",
    "TMPDIR = Path(\"/home/projects/vaccine/people/joacli/AntiInterNet-1.0/output/temporary\")"
   ]
  },
  {
   "cell_type": "markdown",
   "metadata": {},
   "source": [
    "# LOAD AND ENCODE STRUCTURES"
   ]
  },
  {
   "cell_type": "code",
   "execution_count": 2,
   "metadata": {},
   "outputs": [
    {
     "name": "stdout",
     "output_type": "stream",
     "text": [
      "Loading ESM-IF1 model...\n"
     ]
    },
    {
     "name": "stderr",
     "output_type": "stream",
     "text": [
      "/home/projects/vaccine/people/joacli/miniconda3/envs/esm_if1/lib/python3.9/site-packages/esm/pretrained.py:215: UserWarning: Regression weights not found, predicting contacts will not produce correct results.\n",
      "  warnings.warn(\n"
     ]
    },
    {
     "name": "stdout",
     "output_type": "stream",
     "text": [
      "Loading ESM-IF1 model... DONE\n",
      "Encoding structure from file: 5x2n_ag_A_B_ab_L_H.pdb...\n",
      "Encoding structure from file: 5x2n_ag_A_B_ab_L_H.pdb... DONE\n",
      "Extracting interface antibody-antigen inteface encoding... \n",
      "Extracting interface antibody-antigen inteface encoding... DONE\n",
      "Encoding structure from file: 4ye4_ag_G_ab_L_H.pdb...\n",
      "Encoding structure from file: 4ye4_ag_G_ab_L_H.pdb... DONE\n",
      "Extracting interface antibody-antigen inteface encoding... \n",
      "Extracting interface antibody-antigen inteface encoding... DONE\n"
     ]
    }
   ],
   "source": [
    "#making the inverse folding encodings takes a while...\n",
    "data = StructureData()\n",
    "data.encode_proteins(PDBDIR, ENCDIR, TMPDIR)"
   ]
  },
  {
   "cell_type": "markdown",
   "metadata": {},
   "source": [
    "# AntiInterNet-1-0"
   ]
  },
  {
   "cell_type": "code",
   "execution_count": 4,
   "metadata": {},
   "outputs": [
    {
     "name": "stdout",
     "output_type": "stream",
     "text": [
      "Running AntiInterNet\n",
      "{'5x2n_ag_A_B_ab_L_H.pdb': 0.19606073200702667, '4ye4_ag_G_ab_L_H.pdb': 0.28698426485061646}\n"
     ]
    }
   ],
   "source": [
    "antiinternet = AntiInterNet(data)\n",
    "antiinternet_structure_scores = antiinternet.ensemble_predict()\n",
    "print(antiinternet_structure_scores)"
   ]
  },
  {
   "cell_type": "markdown",
   "metadata": {},
   "source": [
    "# AntiScout-1-0"
   ]
  },
  {
   "cell_type": "code",
   "execution_count": 5,
   "metadata": {},
   "outputs": [
    {
     "name": "stdout",
     "output_type": "stream",
     "text": [
      "Generating AntiScout scores\n",
      "{'5x2n_ag_A_B_ab_L_H.pdb': 0.4375183582305908, '4ye4_ag_G_ab_L_H.pdb': 0.38527926802635193}\n"
     ]
    }
   ],
   "source": [
    "antiscout = AntiScout(data)\n",
    "antiscout_scores = antiscout.ensemble_predict()\n",
    "print(antiscout_scores)"
   ]
  },
  {
   "cell_type": "code",
   "execution_count": null,
   "metadata": {},
   "outputs": [],
   "source": []
  }
 ],
 "metadata": {
  "kernelspec": {
   "display_name": "esm_if1",
   "language": "python",
   "name": "python3"
  },
  "language_info": {
   "codemirror_mode": {
    "name": "ipython",
    "version": 3
   },
   "file_extension": ".py",
   "mimetype": "text/x-python",
   "name": "python",
   "nbconvert_exporter": "python",
   "pygments_lexer": "ipython3",
   "version": "3.9.15"
  }
 },
 "nbformat": 4,
 "nbformat_minor": 2
}
