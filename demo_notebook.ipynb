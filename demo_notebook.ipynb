{
 "cells": [
  {
   "cell_type": "markdown",
   "metadata": {},
   "source": [
    "# IMPORTS AND STATIC STUFF"
   ]
  },
  {
   "cell_type": "code",
   "execution_count": 1,
   "metadata": {},
   "outputs": [
    {
     "name": "stdout",
     "output_type": "stream",
     "text": [
      "GPU device detected: cuda\n"
     ]
    }
   ],
   "source": [
    "from abepitope.main import StructureData, EvalAbAgs\n",
    "from pathlib import Path\n",
    "PDBDIR = Path.cwd() / \"abag_exampledata\" / \"Cancer\"\n",
    "ENCDIR = Path.cwd() / \"encodings\"\n",
    "TMPDIR = Path.cwd() / \"temporary\""
   ]
  },
  {
   "cell_type": "markdown",
   "metadata": {},
   "source": [
    "# LOAD AND ENCODE STRUCTURES"
   ]
  },
  {
   "cell_type": "code",
   "execution_count": 2,
   "metadata": {},
   "outputs": [
    {
     "name": "stdout",
     "output_type": "stream",
     "text": [
      "Loading ESM-IF1 model...\n"
     ]
    },
    {
     "name": "stderr",
     "output_type": "stream",
     "text": [
      "/home/projects/vaccine/people/joacli/miniconda3/envs/esm_if1/lib/python3.9/site-packages/esm/pretrained.py:215: UserWarning: Regression weights not found, predicting contacts will not produce correct results.\n",
      "  warnings.warn(\n"
     ]
    },
    {
     "name": "stdout",
     "output_type": "stream",
     "text": [
      "Loading ESM-IF1 model... DONE\n",
      "Encoding structure from file: 7e9b_ag_C_ab_L_H_unrelaxed_rank_021_alphafold2_multimer_v3_model_2_seed_003_2024.pdb...\n",
      "Encoding structure from file: 7e9b_ag_C_ab_L_H_unrelaxed_rank_021_alphafold2_multimer_v3_model_2_seed_003_2024.pdb... DONE\n",
      "Extracting interface antibody-antigen inteface encoding... \n",
      "Extracting interface antibody-antigen inteface encoding... DONE\n",
      "Encoding structure from file: 7e9b_ag_C_ab_L_H_unrelaxed_rank_014_alphafold2_multimer_v3_model_4_seed_003_2024.pdb...\n",
      "Encoding structure from file: 7e9b_ag_C_ab_L_H_unrelaxed_rank_014_alphafold2_multimer_v3_model_4_seed_003_2024.pdb... DONE\n",
      "Extracting interface antibody-antigen inteface encoding... \n",
      "Extracting interface antibody-antigen inteface encoding... DONE\n",
      "Encoding structure from file: 7e9b_ag_C_ab_L_H_unrelaxed_rank_030_alphafold2_multimer_v3_model_2_seed_005_2024.pdb...\n",
      "Encoding structure from file: 7e9b_ag_C_ab_L_H_unrelaxed_rank_030_alphafold2_multimer_v3_model_2_seed_005_2024.pdb... DONE\n",
      "Extracting interface antibody-antigen inteface encoding... \n",
      "Extracting interface antibody-antigen inteface encoding... DONE\n",
      "Encoding structure from file: 7e9b_ag_C_ab_L_H_unrelaxed_rank_007_alphafold2_multimer_v3_model_4_seed_005_2024.pdb...\n",
      "Encoding structure from file: 7e9b_ag_C_ab_L_H_unrelaxed_rank_007_alphafold2_multimer_v3_model_4_seed_005_2024.pdb... DONE\n",
      "Extracting interface antibody-antigen inteface encoding... \n",
      "Extracting interface antibody-antigen inteface encoding... DONE\n",
      "Encoding structure from file: 7e9b_ag_C_ab_L_H_unrelaxed_rank_018_alphafold2_multimer_v3_model_1_seed_000_2024.pdb...\n",
      "Encoding structure from file: 7e9b_ag_C_ab_L_H_unrelaxed_rank_018_alphafold2_multimer_v3_model_1_seed_000_2024.pdb... DONE\n",
      "Extracting interface antibody-antigen inteface encoding... \n",
      "Extracting interface antibody-antigen inteface encoding... DONE\n",
      "Encoding structure from file: 7e9b_ag_C_ab_L_H_unrelaxed_rank_005_alphafold2_multimer_v3_model_4_seed_004_2024.pdb...\n",
      "Encoding structure from file: 7e9b_ag_C_ab_L_H_unrelaxed_rank_005_alphafold2_multimer_v3_model_4_seed_004_2024.pdb... DONE\n",
      "Extracting interface antibody-antigen inteface encoding... \n",
      "Extracting interface antibody-antigen inteface encoding... DONE\n",
      "Encoding structure from file: 7e9b_ag_C_ab_L_H_unrelaxed_rank_017_alphafold2_multimer_v3_model_3_seed_004_2024.pdb...\n",
      "Encoding structure from file: 7e9b_ag_C_ab_L_H_unrelaxed_rank_017_alphafold2_multimer_v3_model_3_seed_004_2024.pdb... DONE\n",
      "Extracting interface antibody-antigen inteface encoding... \n",
      "Extracting interface antibody-antigen inteface encoding... DONE\n",
      "Encoding structure from file: 7e9b_ag_C_ab_L_H_unrelaxed_rank_003_alphafold2_multimer_v3_model_3_seed_001_2024.pdb...\n",
      "Encoding structure from file: 7e9b_ag_C_ab_L_H_unrelaxed_rank_003_alphafold2_multimer_v3_model_3_seed_001_2024.pdb... DONE\n",
      "Extracting interface antibody-antigen inteface encoding... \n",
      "Extracting interface antibody-antigen inteface encoding... DONE\n",
      "Encoding structure from file: 7e9b_ag_C_ab_L_H_unrelaxed_rank_006_alphafold2_multimer_v3_model_4_seed_001_2024.pdb...\n",
      "Encoding structure from file: 7e9b_ag_C_ab_L_H_unrelaxed_rank_006_alphafold2_multimer_v3_model_4_seed_001_2024.pdb... DONE\n",
      "Extracting interface antibody-antigen inteface encoding... \n",
      "Extracting interface antibody-antigen inteface encoding... DONE\n",
      "Encoding structure from file: 7e9b_ag_C_ab_L_H_unrelaxed_rank_015_alphafold2_multimer_v3_model_1_seed_003_2024.pdb...\n",
      "Encoding structure from file: 7e9b_ag_C_ab_L_H_unrelaxed_rank_015_alphafold2_multimer_v3_model_1_seed_003_2024.pdb... DONE\n",
      "Extracting interface antibody-antigen inteface encoding... \n",
      "Extracting interface antibody-antigen inteface encoding... DONE\n",
      "Encoding structure from file: 7e9b_ag_C_ab_L_H_unrelaxed_rank_024_alphafold2_multimer_v3_model_5_seed_004_2024.pdb...\n",
      "Encoding structure from file: 7e9b_ag_C_ab_L_H_unrelaxed_rank_024_alphafold2_multimer_v3_model_5_seed_004_2024.pdb... DONE\n",
      "Extracting interface antibody-antigen inteface encoding... \n",
      "Extracting interface antibody-antigen inteface encoding... DONE\n",
      "Encoding structure from file: 7e9b_ag_C_ab_L_H_unrelaxed_rank_002_alphafold2_multimer_v3_model_3_seed_003_2024.pdb...\n",
      "Encoding structure from file: 7e9b_ag_C_ab_L_H_unrelaxed_rank_002_alphafold2_multimer_v3_model_3_seed_003_2024.pdb... DONE\n",
      "Extracting interface antibody-antigen inteface encoding... \n",
      "Extracting interface antibody-antigen inteface encoding... DONE\n",
      "Encoding structure from file: 7e9b_ag_C_ab_L_H_unrelaxed_rank_019_alphafold2_multimer_v3_model_5_seed_005_2024.pdb...\n",
      "Encoding structure from file: 7e9b_ag_C_ab_L_H_unrelaxed_rank_019_alphafold2_multimer_v3_model_5_seed_005_2024.pdb... DONE\n",
      "Extracting interface antibody-antigen inteface encoding... \n",
      "Extracting interface antibody-antigen inteface encoding... DONE\n",
      "Encoding structure from file: 7e9b_ag_C_ab_L_H_unrelaxed_rank_026_alphafold2_multimer_v3_model_2_seed_004_2024.pdb...\n",
      "Encoding structure from file: 7e9b_ag_C_ab_L_H_unrelaxed_rank_026_alphafold2_multimer_v3_model_2_seed_004_2024.pdb... DONE\n",
      "Extracting interface antibody-antigen inteface encoding... \n",
      "Extracting interface antibody-antigen inteface encoding... DONE\n",
      "Encoding structure from file: 7e9b_ag_C_ab_L_H_unrelaxed_rank_011_alphafold2_multimer_v3_model_1_seed_002_2024.pdb...\n",
      "Encoding structure from file: 7e9b_ag_C_ab_L_H_unrelaxed_rank_011_alphafold2_multimer_v3_model_1_seed_002_2024.pdb... DONE\n",
      "Extracting interface antibody-antigen inteface encoding... \n",
      "Extracting interface antibody-antigen inteface encoding... DONE\n",
      "Encoding structure from file: 7e9b_ag_C_ab_L_H_unrelaxed_rank_001_alphafold2_multimer_v3_model_3_seed_000_2024.pdb...\n",
      "Encoding structure from file: 7e9b_ag_C_ab_L_H_unrelaxed_rank_001_alphafold2_multimer_v3_model_3_seed_000_2024.pdb... DONE\n",
      "Extracting interface antibody-antigen inteface encoding... \n",
      "Extracting interface antibody-antigen inteface encoding... DONE\n",
      "Encoding structure from file: 7e9b_ag_C_ab_L_H_unrelaxed_rank_022_alphafold2_multimer_v3_model_5_seed_001_2024.pdb...\n",
      "Encoding structure from file: 7e9b_ag_C_ab_L_H_unrelaxed_rank_022_alphafold2_multimer_v3_model_5_seed_001_2024.pdb... DONE\n",
      "Extracting interface antibody-antigen inteface encoding... \n",
      "Extracting interface antibody-antigen inteface encoding... DONE\n",
      "Encoding structure from file: 7e9b_ag_C_ab_L_H_unrelaxed_rank_020_alphafold2_multimer_v3_model_2_seed_000_2024.pdb...\n",
      "Encoding structure from file: 7e9b_ag_C_ab_L_H_unrelaxed_rank_020_alphafold2_multimer_v3_model_2_seed_000_2024.pdb... DONE\n",
      "Extracting interface antibody-antigen inteface encoding... \n",
      "Extracting interface antibody-antigen inteface encoding... DONE\n",
      "Encoding structure from file: 7e9b_ag_C_ab_L_H_unrelaxed_rank_004_alphafold2_multimer_v3_model_4_seed_000_2024.pdb...\n",
      "Encoding structure from file: 7e9b_ag_C_ab_L_H_unrelaxed_rank_004_alphafold2_multimer_v3_model_4_seed_000_2024.pdb... DONE\n",
      "Extracting interface antibody-antigen inteface encoding... \n",
      "Extracting interface antibody-antigen inteface encoding... DONE\n",
      "Encoding structure from file: 7e9b_ag_C_ab_L_H_unrelaxed_rank_010_alphafold2_multimer_v3_model_1_seed_004_2024.pdb...\n",
      "Encoding structure from file: 7e9b_ag_C_ab_L_H_unrelaxed_rank_010_alphafold2_multimer_v3_model_1_seed_004_2024.pdb... DONE\n",
      "Extracting interface antibody-antigen inteface encoding... \n",
      "Extracting interface antibody-antigen inteface encoding... DONE\n",
      "Encoding structure from file: 7e9b_ag_C_ab_L_H_unrelaxed_rank_012_alphafold2_multimer_v3_model_1_seed_005_2024.pdb...\n",
      "Encoding structure from file: 7e9b_ag_C_ab_L_H_unrelaxed_rank_012_alphafold2_multimer_v3_model_1_seed_005_2024.pdb... DONE\n",
      "Extracting interface antibody-antigen inteface encoding... \n",
      "Extracting interface antibody-antigen inteface encoding... DONE\n",
      "Encoding structure from file: 7e9b_ag_C_ab_L_H_unrelaxed_rank_025_alphafold2_multimer_v3_model_5_seed_003_2024.pdb...\n",
      "Encoding structure from file: 7e9b_ag_C_ab_L_H_unrelaxed_rank_025_alphafold2_multimer_v3_model_5_seed_003_2024.pdb... DONE\n",
      "Extracting interface antibody-antigen inteface encoding... \n",
      "Extracting interface antibody-antigen inteface encoding... DONE\n",
      "Encoding structure from file: 7e9b_ag_C_ab_L_H_unrelaxed_rank_013_alphafold2_multimer_v3_model_1_seed_001_2024.pdb...\n",
      "Encoding structure from file: 7e9b_ag_C_ab_L_H_unrelaxed_rank_013_alphafold2_multimer_v3_model_1_seed_001_2024.pdb... DONE\n",
      "Extracting interface antibody-antigen inteface encoding... \n",
      "Extracting interface antibody-antigen inteface encoding... DONE\n",
      "Encoding structure from file: 7e9b_ag_C_ab_L_H_unrelaxed_rank_008_alphafold2_multimer_v3_model_4_seed_002_2024.pdb...\n",
      "Encoding structure from file: 7e9b_ag_C_ab_L_H_unrelaxed_rank_008_alphafold2_multimer_v3_model_4_seed_002_2024.pdb... DONE\n",
      "Extracting interface antibody-antigen inteface encoding... \n",
      "Extracting interface antibody-antigen inteface encoding... DONE\n",
      "Encoding structure from file: 7e9b_ag_C_ab_L_H_unrelaxed_rank_009_alphafold2_multimer_v3_model_3_seed_005_2024.pdb...\n",
      "Encoding structure from file: 7e9b_ag_C_ab_L_H_unrelaxed_rank_009_alphafold2_multimer_v3_model_3_seed_005_2024.pdb... DONE\n",
      "Extracting interface antibody-antigen inteface encoding... \n",
      "Extracting interface antibody-antigen inteface encoding... DONE\n",
      "Encoding structure from file: 7e9b_ag_C_ab_L_H_unrelaxed_rank_028_alphafold2_multimer_v3_model_2_seed_002_2024.pdb...\n",
      "Encoding structure from file: 7e9b_ag_C_ab_L_H_unrelaxed_rank_028_alphafold2_multimer_v3_model_2_seed_002_2024.pdb... DONE\n",
      "Extracting interface antibody-antigen inteface encoding... \n",
      "Extracting interface antibody-antigen inteface encoding... DONE\n",
      "Encoding structure from file: 7e9b_ag_C_ab_L_H_unrelaxed_rank_029_alphafold2_multimer_v3_model_5_seed_002_2024.pdb...\n",
      "Encoding structure from file: 7e9b_ag_C_ab_L_H_unrelaxed_rank_029_alphafold2_multimer_v3_model_5_seed_002_2024.pdb... DONE\n",
      "Extracting interface antibody-antigen inteface encoding... \n",
      "Extracting interface antibody-antigen inteface encoding... DONE\n",
      "Encoding structure from file: 7e9b_ag_C_ab_L_H_unrelaxed_rank_016_alphafold2_multimer_v3_model_3_seed_002_2024.pdb...\n",
      "Encoding structure from file: 7e9b_ag_C_ab_L_H_unrelaxed_rank_016_alphafold2_multimer_v3_model_3_seed_002_2024.pdb... DONE\n",
      "Extracting interface antibody-antigen inteface encoding... \n",
      "Extracting interface antibody-antigen inteface encoding... DONE\n",
      "Encoding structure from file: 7e9b_ag_C_ab_L_H_unrelaxed_rank_027_alphafold2_multimer_v3_model_2_seed_001_2024.pdb...\n",
      "Encoding structure from file: 7e9b_ag_C_ab_L_H_unrelaxed_rank_027_alphafold2_multimer_v3_model_2_seed_001_2024.pdb... DONE\n",
      "Extracting interface antibody-antigen inteface encoding... \n",
      "Extracting interface antibody-antigen inteface encoding... DONE\n",
      "Encoding structure from file: 7e9b_ag_C_ab_L_H_unrelaxed_rank_023_alphafold2_multimer_v3_model_5_seed_000_2024.pdb...\n",
      "Encoding structure from file: 7e9b_ag_C_ab_L_H_unrelaxed_rank_023_alphafold2_multimer_v3_model_5_seed_000_2024.pdb... DONE\n",
      "Extracting interface antibody-antigen inteface encoding... \n",
      "Extracting interface antibody-antigen inteface encoding... DONE\n"
     ]
    }
   ],
   "source": [
    "#making the inverse folding encodings takes a while...\n",
    "data = StructureData()\n",
    "data.encode_proteins(PDBDIR, ENCDIR, TMPDIR)"
   ]
  },
  {
   "cell_type": "markdown",
   "metadata": {},
   "source": [
    "# Evaluate interfaces antibody-antigen complexes"
   ]
  },
  {
   "cell_type": "code",
   "execution_count": 3,
   "metadata": {},
   "outputs": [],
   "source": [
    "eval_abags = EvalAbAgs(data)"
   ]
  },
  {
   "cell_type": "markdown",
   "metadata": {},
   "source": [
    "##  AbEpiScore-1.0"
   ]
  },
  {
   "cell_type": "code",
   "execution_count": 4,
   "metadata": {},
   "outputs": [
    {
     "name": "stdout",
     "output_type": "stream",
     "text": [
      "Running AbEpiScore-1.0\n",
      "Running AbEpiScore-1.0... DONE\n",
      "tensor([0.0459, 0.0501, 0.0425, 0.3040, 0.0313, 0.3426, 0.0294, 0.3225, 0.2855,\n",
      "        0.0326, 0.0403, 0.3196, 0.0526, 0.0494, 0.0315, 0.2775, 0.0409, 0.0450,\n",
      "        0.3504, 0.0310, 0.0347, 0.0352, 0.0334, 0.2322, 0.0327, 0.0458, 0.0315,\n",
      "        0.0308, 0.0350, 0.0328])\n"
     ]
    }
   ],
   "source": [
    "abepiscore_scores, filepaths = eval_abags.abepiscore()\n",
    "print(abepiscore_scores)"
   ]
  },
  {
   "cell_type": "markdown",
   "metadata": {},
   "source": [
    "## AbEpiTarget-1.0"
   ]
  },
  {
   "cell_type": "code",
   "execution_count": 5,
   "metadata": {},
   "outputs": [
    {
     "name": "stdout",
     "output_type": "stream",
     "text": [
      "Running AbEpiTarget-1.0...\n"
     ]
    },
    {
     "name": "stdout",
     "output_type": "stream",
     "text": [
      "Running AbEpiTarget-1.0... DONE\n",
      "tensor([0.2010, 0.1882, 0.1550, 0.2740, 0.1912, 0.3003, 0.1359, 0.2762, 0.2651,\n",
      "        0.1720, 0.1698, 0.2557, 0.2460, 0.2011, 0.1530, 0.2465, 0.1983, 0.2056,\n",
      "        0.3134, 0.1793, 0.1771, 0.2251, 0.1080, 0.2003, 0.1473, 0.1856, 0.2141,\n",
      "        0.1264, 0.1582, 0.1964])\n"
     ]
    }
   ],
   "source": [
    "abepitarget_scores, filepaths = eval_abags.abepitarget()\n",
    "print(abepitarget_scores)"
   ]
  },
  {
   "cell_type": "markdown",
   "metadata": {},
   "source": [
    "## AbEpiScore-1.0 + AbEpiTarget-1.0 to output .csv"
   ]
  },
  {
   "cell_type": "code",
   "execution_count": 6,
   "metadata": {},
   "outputs": [
    {
     "name": "stdout",
     "output_type": "stream",
     "text": [
      "Running AbEpiScore-1.0\n",
      "Running AbEpiScore-1.0... DONE\n",
      "Running AbEpiTarget-1.0...\n"
     ]
    },
    {
     "name": "stdout",
     "output_type": "stream",
     "text": [
      "Running AbEpiTarget-1.0... DONE\n",
      "Creating output files...\n",
      "Creating output files... DONE\n"
     ]
    }
   ],
   "source": [
    "OUTDIR = Path.cwd() / \"output\"\n",
    "eval_abags.predict(OUTDIR)"
   ]
  }
 ],
 "metadata": {
  "kernelspec": {
   "display_name": "esm_if1",
   "language": "python",
   "name": "python3"
  },
  "language_info": {
   "codemirror_mode": {
    "name": "ipython",
    "version": 3
   },
   "file_extension": ".py",
   "mimetype": "text/x-python",
   "name": "python",
   "nbconvert_exporter": "python",
   "pygments_lexer": "ipython3",
   "version": "3.9.15"
  }
 },
 "nbformat": 4,
 "nbformat_minor": 2
}
