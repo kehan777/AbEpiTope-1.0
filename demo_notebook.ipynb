{
 "cells": [
  {
   "cell_type": "markdown",
   "metadata": {},
   "source": [
    "# IMPORTS AND STATIC STUFF"
   ]
  },
  {
   "cell_type": "code",
   "execution_count": 1,
   "metadata": {},
   "outputs": [
    {
     "name": "stdout",
     "output_type": "stream",
     "text": [
      "GPU device detected: cuda\n"
     ]
    }
   ],
   "source": [
    "from abepitope.main import StructureData, EvalAbAgs\n",
    "from pathlib import Path\n",
    "PDBDIR = Path.cwd() / \"Cancer\"\n",
    "ENCDIR = Path.cwd() / \"encodings\"\n",
    "TMPDIR = Path.cwd() / \"temporary\""
   ]
  },
  {
   "cell_type": "markdown",
   "metadata": {},
   "source": [
    "# LOAD AND ENCODE STRUCTURES"
   ]
  },
  {
   "cell_type": "code",
   "execution_count": 2,
   "metadata": {},
   "outputs": [
    {
     "name": "stdout",
     "output_type": "stream",
     "text": [
      "Loading ESM-IF1 model...\n"
     ]
    },
    {
     "name": "stderr",
     "output_type": "stream",
     "text": [
      "/home/projects/vaccine/people/joacli/miniconda3/envs/esm_if1/lib/python3.9/site-packages/esm/pretrained.py:215: UserWarning: Regression weights not found, predicting contacts will not produce correct results.\n",
      "  warnings.warn(\n"
     ]
    },
    {
     "name": "stdout",
     "output_type": "stream",
     "text": [
      "Loading ESM-IF1 model... DONE\n",
      "Encoding structure from file: 5x2n_ag_A_B_ab_L_H.pdb...\n",
      "Encoding structure from file: 5x2n_ag_A_B_ab_L_H.pdb... DONE\n",
      "Extracting interface antibody-antigen inteface encoding... \n",
      "Extracting interface antibody-antigen inteface encoding... DONE\n",
      "Encoding structure from file: 4ye4_ag_G_ab_L_H.pdb...\n",
      "Encoding structure from file: 4ye4_ag_G_ab_L_H.pdb... DONE\n",
      "Extracting interface antibody-antigen inteface encoding... \n",
      "Extracting interface antibody-antigen inteface encoding... DONE\n"
     ]
    }
   ],
   "source": [
    "#making the inverse folding encodings takes a while...\n",
    "data = StructureData()\n",
    "data.encode_proteins(PDBDIR, ENCDIR, TMPDIR)\n",
    "#data.encode_proteins(PDBDIR, ENCDIR, TMPDIR, esmif1_model=) #if you stored specifiy "
   ]
  },
  {
   "cell_type": "markdown",
   "metadata": {},
   "source": [
    "# Evaluate interfaces antibody-antigen complexes"
   ]
  },
  {
   "cell_type": "code",
   "execution_count": 3,
   "metadata": {},
   "outputs": [],
   "source": [
    "eval_abags = EvalAbAgs(data)"
   ]
  },
  {
   "cell_type": "markdown",
   "metadata": {},
   "source": [
    "##  AntiInterNet-1-0"
   ]
  },
  {
   "cell_type": "code",
   "execution_count": 4,
   "metadata": {},
   "outputs": [
    {
     "name": "stdout",
     "output_type": "stream",
     "text": [
      "Running AntiInterNet\n",
      "Running AntiInterNet-1.0... DONE\n",
      "tensor([0.1961, 0.2870]) [PosixPath('/home/projects/vaccine/people/joacli/AntiInterNet-1.0/sample_pdbs/5x2n_ag_A_B_ab_L_H.pdb'), PosixPath('/home/projects/vaccine/people/joacli/AntiInterNet-1.0/sample_pdbs/4ye4_ag_G_ab_L_H.pdb')]\n"
     ]
    }
   ],
   "source": [
    "antinternet_scores, filepaths = eval_abags.antiinternet()\n",
    "print(antinternet_scores, filepaths)"
   ]
  },
  {
   "cell_type": "markdown",
   "metadata": {},
   "source": [
    "## AntiScout-1-0"
   ]
  },
  {
   "cell_type": "code",
   "execution_count": 6,
   "metadata": {},
   "outputs": [
    {
     "name": "stdout",
     "output_type": "stream",
     "text": [
      "Running AntiScout-1.0...\n",
      "Running AntiScout-1.0... DONE\n",
      "tensor([0.4375, 0.3853]) [PosixPath('/home/projects/vaccine/people/joacli/AntiInterNet-1.0/sample_pdbs/5x2n_ag_A_B_ab_L_H.pdb'), PosixPath('/home/projects/vaccine/people/joacli/AntiInterNet-1.0/sample_pdbs/4ye4_ag_G_ab_L_H.pdb')]\n"
     ]
    }
   ],
   "source": [
    "antiscout_scores, filepaths = eval_abags.antiscout()\n",
    "print(antiscout_scores, filepaths)"
   ]
  },
  {
   "cell_type": "markdown",
   "metadata": {},
   "source": [
    "## AntInterNet-1.0 + AntiScout-1.0 to output .csv"
   ]
  },
  {
   "cell_type": "code",
   "execution_count": 7,
   "metadata": {},
   "outputs": [
    {
     "name": "stdout",
     "output_type": "stream",
     "text": [
      "Running AntiInterNet\n",
      "Running AntiInterNet-1.0... DONE\n",
      "Running AntiScout-1.0...\n",
      "Running AntiScout-1.0... DONE\n",
      "Creating output files...\n",
      "Creating output files... DONE\n"
     ]
    }
   ],
   "source": [
    "OUTDIR = Path.cwd() / \"output\"\n",
    "eval_abags.predict(OUTDIR)"
   ]
  }
 ],
 "metadata": {
  "kernelspec": {
   "display_name": "esm_if1",
   "language": "python",
   "name": "python3"
  },
  "language_info": {
   "codemirror_mode": {
    "name": "ipython",
    "version": 3
   },
   "file_extension": ".py",
   "mimetype": "text/x-python",
   "name": "python",
   "nbconvert_exporter": "python",
   "pygments_lexer": "ipython3",
   "version": "3.9.15"
  }
 },
 "nbformat": 4,
 "nbformat_minor": 2
}
