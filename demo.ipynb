{
 "cells": [
  {
   "cell_type": "markdown",
   "metadata": {},
   "source": [
    "# IMPORTS AND STATIC STUFF"
   ]
  },
  {
   "cell_type": "code",
   "execution_count": 21,
   "metadata": {},
   "outputs": [],
   "source": [
    "import torch\n",
    "from abepitope.main import StructureData, EvalAbAgs\n",
    "from pathlib import Path\n",
    "STRUCTUREINPUTS = Path.cwd() / \"abag_exampledata\" / \"Cancer\" # directory containing PDB or CIF files (can also be a single PDB/CIF file)\n",
    "ENCDIR = Path.cwd() / \"encodings\" # directory for storing the full esm-if1 encodings\n",
    "TMPDIR = Path.cwd() / \"temporary\""
   ]
  },
  {
   "cell_type": "markdown",
   "metadata": {},
   "source": [
    "# LOAD AND ENCODE STRUCTURES"
   ]
  },
  {
   "cell_type": "code",
   "execution_count": 22,
   "metadata": {},
   "outputs": [
    {
     "name": "stdout",
     "output_type": "stream",
     "text": [
      "Loading ESM-IF1 model...\n"
     ]
    },
    {
     "name": "stderr",
     "output_type": "stream",
     "text": [
      "/home/projects/vaccine/people/joacli/miniconda3/envs/esm_if1/lib/python3.9/site-packages/esm/pretrained.py:215: UserWarning: Regression weights not found, predicting contacts will not produce correct results.\n",
      "  warnings.warn(\n"
     ]
    },
    {
     "name": "stdout",
     "output_type": "stream",
     "text": [
      "Loading ESM-IF1 model... DONE\n",
      "Encoding structure from file: 7e9b_ag_C_ab_L_H_unrelaxed_rank_021_alphafold2_multimer_v3_model_2_seed_003_2024.pdb...\n",
      "Encoding structure from file: 7e9b_ag_C_ab_L_H_unrelaxed_rank_021_alphafold2_multimer_v3_model_2_seed_003_2024.pdb... DONE\n",
      "Extracting interface antibody-antigen inteface encoding...\n",
      "Extracting interface antibody-antigen inteface encoding... DONE\n",
      "Encoding structure from file: 7e9b_ag_C_ab_L_H_unrelaxed_rank_014_alphafold2_multimer_v3_model_4_seed_003_2024.pdb...\n",
      "Encoding structure from file: 7e9b_ag_C_ab_L_H_unrelaxed_rank_014_alphafold2_multimer_v3_model_4_seed_003_2024.pdb... DONE\n",
      "Extracting interface antibody-antigen inteface encoding...\n",
      "Extracting interface antibody-antigen inteface encoding... DONE\n",
      "Encoding structure from file: 7e9b_ag_C_ab_L_H_unrelaxed_rank_030_alphafold2_multimer_v3_model_2_seed_005_2024.pdb...\n",
      "Encoding structure from file: 7e9b_ag_C_ab_L_H_unrelaxed_rank_030_alphafold2_multimer_v3_model_2_seed_005_2024.pdb... DONE\n",
      "Extracting interface antibody-antigen inteface encoding...\n",
      "Extracting interface antibody-antigen inteface encoding... DONE\n",
      "Encoding structure from file: 7e9b_ag_C_ab_L_H_unrelaxed_rank_007_alphafold2_multimer_v3_model_4_seed_005_2024.pdb...\n",
      "Encoding structure from file: 7e9b_ag_C_ab_L_H_unrelaxed_rank_007_alphafold2_multimer_v3_model_4_seed_005_2024.pdb... DONE\n",
      "Extracting interface antibody-antigen inteface encoding...\n",
      "Extracting interface antibody-antigen inteface encoding... DONE\n",
      "Encoding structure from file: 7e9b_ag_C_ab_L_H_unrelaxed_rank_018_alphafold2_multimer_v3_model_1_seed_000_2024.pdb...\n",
      "Encoding structure from file: 7e9b_ag_C_ab_L_H_unrelaxed_rank_018_alphafold2_multimer_v3_model_1_seed_000_2024.pdb... DONE\n",
      "Extracting interface antibody-antigen inteface encoding...\n",
      "Extracting interface antibody-antigen inteface encoding... DONE\n",
      "Encoding structure from file: 7e9b_ag_C_ab_L_H_unrelaxed_rank_005_alphafold2_multimer_v3_model_4_seed_004_2024.pdb...\n",
      "Encoding structure from file: 7e9b_ag_C_ab_L_H_unrelaxed_rank_005_alphafold2_multimer_v3_model_4_seed_004_2024.pdb... DONE\n",
      "Extracting interface antibody-antigen inteface encoding...\n",
      "Extracting interface antibody-antigen inteface encoding... DONE\n",
      "Encoding structure from file: 7e9b_ag_C_ab_L_H_unrelaxed_rank_017_alphafold2_multimer_v3_model_3_seed_004_2024.pdb...\n",
      "Encoding structure from file: 7e9b_ag_C_ab_L_H_unrelaxed_rank_017_alphafold2_multimer_v3_model_3_seed_004_2024.pdb... DONE\n",
      "Extracting interface antibody-antigen inteface encoding...\n",
      "Extracting interface antibody-antigen inteface encoding... DONE\n",
      "Encoding structure from file: 7e9b_ag_C_ab_L_H_unrelaxed_rank_003_alphafold2_multimer_v3_model_3_seed_001_2024.pdb...\n",
      "Encoding structure from file: 7e9b_ag_C_ab_L_H_unrelaxed_rank_003_alphafold2_multimer_v3_model_3_seed_001_2024.pdb... DONE\n",
      "Extracting interface antibody-antigen inteface encoding...\n",
      "Extracting interface antibody-antigen inteface encoding... DONE\n",
      "Encoding structure from file: 7e9b_ag_C_ab_L_H_unrelaxed_rank_006_alphafold2_multimer_v3_model_4_seed_001_2024.pdb...\n",
      "Encoding structure from file: 7e9b_ag_C_ab_L_H_unrelaxed_rank_006_alphafold2_multimer_v3_model_4_seed_001_2024.pdb... DONE\n",
      "Extracting interface antibody-antigen inteface encoding...\n",
      "Extracting interface antibody-antigen inteface encoding... DONE\n",
      "Encoding structure from file: 7e9b_ag_C_ab_L_H_unrelaxed_rank_015_alphafold2_multimer_v3_model_1_seed_003_2024.pdb...\n",
      "Encoding structure from file: 7e9b_ag_C_ab_L_H_unrelaxed_rank_015_alphafold2_multimer_v3_model_1_seed_003_2024.pdb... DONE\n",
      "Extracting interface antibody-antigen inteface encoding...\n",
      "Extracting interface antibody-antigen inteface encoding... DONE\n",
      "Encoding structure from file: 7e9b_ag_C_ab_L_H_unrelaxed_rank_024_alphafold2_multimer_v3_model_5_seed_004_2024.pdb...\n",
      "Encoding structure from file: 7e9b_ag_C_ab_L_H_unrelaxed_rank_024_alphafold2_multimer_v3_model_5_seed_004_2024.pdb... DONE\n",
      "Extracting interface antibody-antigen inteface encoding...\n",
      "Extracting interface antibody-antigen inteface encoding... DONE\n",
      "Encoding structure from file: 7e9b_ag_C_ab_L_H_unrelaxed_rank_002_alphafold2_multimer_v3_model_3_seed_003_2024.pdb...\n",
      "Encoding structure from file: 7e9b_ag_C_ab_L_H_unrelaxed_rank_002_alphafold2_multimer_v3_model_3_seed_003_2024.pdb... DONE\n",
      "Extracting interface antibody-antigen inteface encoding...\n",
      "Extracting interface antibody-antigen inteface encoding... DONE\n",
      "Encoding structure from file: 7e9b_ag_C_ab_L_H_unrelaxed_rank_019_alphafold2_multimer_v3_model_5_seed_005_2024.pdb...\n",
      "Encoding structure from file: 7e9b_ag_C_ab_L_H_unrelaxed_rank_019_alphafold2_multimer_v3_model_5_seed_005_2024.pdb... DONE\n",
      "Extracting interface antibody-antigen inteface encoding...\n",
      "Extracting interface antibody-antigen inteface encoding... DONE\n",
      "Encoding structure from file: 7e9b_ag_C_ab_L_H_unrelaxed_rank_026_alphafold2_multimer_v3_model_2_seed_004_2024.pdb...\n",
      "Encoding structure from file: 7e9b_ag_C_ab_L_H_unrelaxed_rank_026_alphafold2_multimer_v3_model_2_seed_004_2024.pdb... DONE\n",
      "Extracting interface antibody-antigen inteface encoding...\n",
      "Extracting interface antibody-antigen inteface encoding... DONE\n",
      "Encoding structure from file: 7e9b_ag_C_ab_L_H_unrelaxed_rank_011_alphafold2_multimer_v3_model_1_seed_002_2024.pdb...\n",
      "Encoding structure from file: 7e9b_ag_C_ab_L_H_unrelaxed_rank_011_alphafold2_multimer_v3_model_1_seed_002_2024.pdb... DONE\n",
      "Extracting interface antibody-antigen inteface encoding...\n",
      "Extracting interface antibody-antigen inteface encoding... DONE\n",
      "Encoding structure from file: 7e9b_ag_C_ab_L_H_unrelaxed_rank_001_alphafold2_multimer_v3_model_3_seed_000_2024.pdb...\n",
      "Encoding structure from file: 7e9b_ag_C_ab_L_H_unrelaxed_rank_001_alphafold2_multimer_v3_model_3_seed_000_2024.pdb... DONE\n",
      "Extracting interface antibody-antigen inteface encoding...\n",
      "Extracting interface antibody-antigen inteface encoding... DONE\n",
      "Encoding structure from file: 7e9b_ag_C_ab_L_H_unrelaxed_rank_022_alphafold2_multimer_v3_model_5_seed_001_2024.pdb...\n",
      "Encoding structure from file: 7e9b_ag_C_ab_L_H_unrelaxed_rank_022_alphafold2_multimer_v3_model_5_seed_001_2024.pdb... DONE\n",
      "Extracting interface antibody-antigen inteface encoding...\n",
      "Extracting interface antibody-antigen inteface encoding... DONE\n",
      "Encoding structure from file: 7e9b_ag_C_ab_L_H_unrelaxed_rank_020_alphafold2_multimer_v3_model_2_seed_000_2024.pdb...\n",
      "Encoding structure from file: 7e9b_ag_C_ab_L_H_unrelaxed_rank_020_alphafold2_multimer_v3_model_2_seed_000_2024.pdb... DONE\n",
      "Extracting interface antibody-antigen inteface encoding...\n",
      "Extracting interface antibody-antigen inteface encoding... DONE\n",
      "Encoding structure from file: 7e9b_ag_C_ab_L_H_unrelaxed_rank_004_alphafold2_multimer_v3_model_4_seed_000_2024.pdb...\n",
      "Encoding structure from file: 7e9b_ag_C_ab_L_H_unrelaxed_rank_004_alphafold2_multimer_v3_model_4_seed_000_2024.pdb... DONE\n",
      "Extracting interface antibody-antigen inteface encoding...\n",
      "Extracting interface antibody-antigen inteface encoding... DONE\n",
      "Encoding structure from file: 7e9b_ag_C_ab_L_H_unrelaxed_rank_010_alphafold2_multimer_v3_model_1_seed_004_2024.pdb...\n",
      "Encoding structure from file: 7e9b_ag_C_ab_L_H_unrelaxed_rank_010_alphafold2_multimer_v3_model_1_seed_004_2024.pdb... DONE\n",
      "Extracting interface antibody-antigen inteface encoding...\n",
      "Extracting interface antibody-antigen inteface encoding... DONE\n",
      "Encoding structure from file: 7e9b_ag_C_ab_L_H_unrelaxed_rank_012_alphafold2_multimer_v3_model_1_seed_005_2024.pdb...\n",
      "Encoding structure from file: 7e9b_ag_C_ab_L_H_unrelaxed_rank_012_alphafold2_multimer_v3_model_1_seed_005_2024.pdb... DONE\n",
      "Extracting interface antibody-antigen inteface encoding...\n",
      "Extracting interface antibody-antigen inteface encoding... DONE\n",
      "Encoding structure from file: 7e9b_ag_C_ab_L_H_unrelaxed_rank_025_alphafold2_multimer_v3_model_5_seed_003_2024.pdb...\n",
      "Encoding structure from file: 7e9b_ag_C_ab_L_H_unrelaxed_rank_025_alphafold2_multimer_v3_model_5_seed_003_2024.pdb... DONE\n",
      "Extracting interface antibody-antigen inteface encoding...\n",
      "Extracting interface antibody-antigen inteface encoding... DONE\n",
      "Encoding structure from file: 7e9b_ag_C_ab_L_H_unrelaxed_rank_013_alphafold2_multimer_v3_model_1_seed_001_2024.pdb...\n",
      "Encoding structure from file: 7e9b_ag_C_ab_L_H_unrelaxed_rank_013_alphafold2_multimer_v3_model_1_seed_001_2024.pdb... DONE\n",
      "Extracting interface antibody-antigen inteface encoding...\n",
      "Extracting interface antibody-antigen inteface encoding... DONE\n",
      "Encoding structure from file: 7e9b_ag_C_ab_L_H_unrelaxed_rank_008_alphafold2_multimer_v3_model_4_seed_002_2024.pdb...\n",
      "Encoding structure from file: 7e9b_ag_C_ab_L_H_unrelaxed_rank_008_alphafold2_multimer_v3_model_4_seed_002_2024.pdb... DONE\n",
      "Extracting interface antibody-antigen inteface encoding...\n",
      "Extracting interface antibody-antigen inteface encoding... DONE\n",
      "Encoding structure from file: 7e9b_ag_C_ab_L_H_unrelaxed_rank_009_alphafold2_multimer_v3_model_3_seed_005_2024.pdb...\n",
      "Encoding structure from file: 7e9b_ag_C_ab_L_H_unrelaxed_rank_009_alphafold2_multimer_v3_model_3_seed_005_2024.pdb... DONE\n",
      "Extracting interface antibody-antigen inteface encoding...\n",
      "Extracting interface antibody-antigen inteface encoding... DONE\n",
      "Encoding structure from file: 7e9b_ag_C_ab_L_H_unrelaxed_rank_028_alphafold2_multimer_v3_model_2_seed_002_2024.pdb...\n",
      "Encoding structure from file: 7e9b_ag_C_ab_L_H_unrelaxed_rank_028_alphafold2_multimer_v3_model_2_seed_002_2024.pdb... DONE\n",
      "Extracting interface antibody-antigen inteface encoding...\n",
      "Extracting interface antibody-antigen inteface encoding... DONE\n",
      "Encoding structure from file: 7e9b_ag_C_ab_L_H_unrelaxed_rank_029_alphafold2_multimer_v3_model_5_seed_002_2024.pdb...\n",
      "Encoding structure from file: 7e9b_ag_C_ab_L_H_unrelaxed_rank_029_alphafold2_multimer_v3_model_5_seed_002_2024.pdb... DONE\n",
      "Extracting interface antibody-antigen inteface encoding...\n",
      "Extracting interface antibody-antigen inteface encoding... DONE\n",
      "Encoding structure from file: 7e9b_ag_C_ab_L_H_unrelaxed_rank_016_alphafold2_multimer_v3_model_3_seed_002_2024.pdb...\n",
      "Encoding structure from file: 7e9b_ag_C_ab_L_H_unrelaxed_rank_016_alphafold2_multimer_v3_model_3_seed_002_2024.pdb... DONE\n",
      "Extracting interface antibody-antigen inteface encoding...\n",
      "Extracting interface antibody-antigen inteface encoding... DONE\n",
      "Encoding structure from file: 7e9b_ag_C_ab_L_H_unrelaxed_rank_027_alphafold2_multimer_v3_model_2_seed_001_2024.pdb...\n",
      "Encoding structure from file: 7e9b_ag_C_ab_L_H_unrelaxed_rank_027_alphafold2_multimer_v3_model_2_seed_001_2024.pdb... DONE\n",
      "Extracting interface antibody-antigen inteface encoding...\n",
      "Extracting interface antibody-antigen inteface encoding... DONE\n",
      "Encoding structure from file: 7e9b_ag_C_ab_L_H_unrelaxed_rank_023_alphafold2_multimer_v3_model_5_seed_000_2024.pdb...\n",
      "Encoding structure from file: 7e9b_ag_C_ab_L_H_unrelaxed_rank_023_alphafold2_multimer_v3_model_5_seed_000_2024.pdb... DONE\n",
      "Extracting interface antibody-antigen inteface encoding...\n",
      "Extracting interface antibody-antigen inteface encoding... DONE\n"
     ]
    }
   ],
   "source": [
    "# create esm-if1 encodings for interfaces (4Å) of antibody-antigen structure(s) (PDB or CIF format)\n",
    "data = StructureData()\n",
    "data.encode_proteins(STRUCTUREINPUTS, ENCDIR, TMPDIR)"
   ]
  },
  {
   "cell_type": "markdown",
   "metadata": {},
   "source": [
    "# Evaluate antibody-antigen complexes"
   ]
  },
  {
   "cell_type": "code",
   "execution_count": 23,
   "metadata": {},
   "outputs": [],
   "source": [
    "# intialize antibody-antigen complex evalaution object with encoded structures\n",
    "eval_abags = EvalAbAgs(data)"
   ]
  },
  {
   "cell_type": "markdown",
   "metadata": {},
   "source": [
    "##  AbEpiScore-1.0"
   ]
  },
  {
   "cell_type": "code",
   "execution_count": 24,
   "metadata": {},
   "outputs": [
    {
     "name": "stdout",
     "output_type": "stream",
     "text": [
      "Running AbEpiScore-1.0\n",
      "Running AbEpiScore-1.0... DONE\n",
      "AbEpiScore-1.0 0.25286930799484253 Filename: 7e9b_ag_C_ab_L_H_unrelaxed_rank_004_alphafold2_multimer_v3_model_4_seed_000_2024.pdb\n",
      "AbEpiScore-1.0 0.2361782044172287 Filename: 7e9b_ag_C_ab_L_H_unrelaxed_rank_005_alphafold2_multimer_v3_model_4_seed_004_2024.pdb\n",
      "AbEpiScore-1.0 0.2208690643310547 Filename: 7e9b_ag_C_ab_L_H_unrelaxed_rank_002_alphafold2_multimer_v3_model_3_seed_003_2024.pdb\n",
      "AbEpiScore-1.0 0.2122720181941986 Filename: 7e9b_ag_C_ab_L_H_unrelaxed_rank_003_alphafold2_multimer_v3_model_3_seed_001_2024.pdb\n",
      "AbEpiScore-1.0 0.19689428806304932 Filename: 7e9b_ag_C_ab_L_H_unrelaxed_rank_007_alphafold2_multimer_v3_model_4_seed_005_2024.pdb\n",
      "AbEpiScore-1.0 0.18726544082164764 Filename: 7e9b_ag_C_ab_L_H_unrelaxed_rank_006_alphafold2_multimer_v3_model_4_seed_001_2024.pdb\n",
      "AbEpiScore-1.0 0.17339560389518738 Filename: 7e9b_ag_C_ab_L_H_unrelaxed_rank_001_alphafold2_multimer_v3_model_3_seed_000_2024.pdb\n",
      "AbEpiScore-1.0 0.14396636188030243 Filename: 7e9b_ag_C_ab_L_H_unrelaxed_rank_008_alphafold2_multimer_v3_model_4_seed_002_2024.pdb\n",
      "AbEpiScore-1.0 0.03609704598784447 Filename: 7e9b_ag_C_ab_L_H_unrelaxed_rank_019_alphafold2_multimer_v3_model_5_seed_005_2024.pdb\n",
      "AbEpiScore-1.0 0.028973037376999855 Filename: 7e9b_ag_C_ab_L_H_unrelaxed_rank_026_alphafold2_multimer_v3_model_2_seed_004_2024.pdb\n",
      "AbEpiScore-1.0 0.027748381718993187 Filename: 7e9b_ag_C_ab_L_H_unrelaxed_rank_021_alphafold2_multimer_v3_model_2_seed_003_2024.pdb\n",
      "AbEpiScore-1.0 0.0272792037576437 Filename: 7e9b_ag_C_ab_L_H_unrelaxed_rank_014_alphafold2_multimer_v3_model_4_seed_003_2024.pdb\n",
      "AbEpiScore-1.0 0.02701389789581299 Filename: 7e9b_ag_C_ab_L_H_unrelaxed_rank_020_alphafold2_multimer_v3_model_2_seed_000_2024.pdb\n",
      "AbEpiScore-1.0 0.026991453021764755 Filename: 7e9b_ag_C_ab_L_H_unrelaxed_rank_028_alphafold2_multimer_v3_model_2_seed_002_2024.pdb\n",
      "AbEpiScore-1.0 0.025817740708589554 Filename: 7e9b_ag_C_ab_L_H_unrelaxed_rank_024_alphafold2_multimer_v3_model_5_seed_004_2024.pdb\n",
      "AbEpiScore-1.0 0.025401141494512558 Filename: 7e9b_ag_C_ab_L_H_unrelaxed_rank_022_alphafold2_multimer_v3_model_5_seed_001_2024.pdb\n",
      "AbEpiScore-1.0 0.024646805599331856 Filename: 7e9b_ag_C_ab_L_H_unrelaxed_rank_025_alphafold2_multimer_v3_model_5_seed_003_2024.pdb\n",
      "AbEpiScore-1.0 0.02458539791405201 Filename: 7e9b_ag_C_ab_L_H_unrelaxed_rank_030_alphafold2_multimer_v3_model_2_seed_005_2024.pdb\n",
      "AbEpiScore-1.0 0.024206126108765602 Filename: 7e9b_ag_C_ab_L_H_unrelaxed_rank_012_alphafold2_multimer_v3_model_1_seed_005_2024.pdb\n",
      "AbEpiScore-1.0 0.022905681282281876 Filename: 7e9b_ag_C_ab_L_H_unrelaxed_rank_015_alphafold2_multimer_v3_model_1_seed_003_2024.pdb\n",
      "AbEpiScore-1.0 0.022624533623456955 Filename: 7e9b_ag_C_ab_L_H_unrelaxed_rank_018_alphafold2_multimer_v3_model_1_seed_000_2024.pdb\n",
      "AbEpiScore-1.0 0.02259490266442299 Filename: 7e9b_ag_C_ab_L_H_unrelaxed_rank_027_alphafold2_multimer_v3_model_2_seed_001_2024.pdb\n",
      "AbEpiScore-1.0 0.022574324160814285 Filename: 7e9b_ag_C_ab_L_H_unrelaxed_rank_009_alphafold2_multimer_v3_model_3_seed_005_2024.pdb\n",
      "AbEpiScore-1.0 0.022163525223731995 Filename: 7e9b_ag_C_ab_L_H_unrelaxed_rank_010_alphafold2_multimer_v3_model_1_seed_004_2024.pdb\n",
      "AbEpiScore-1.0 0.022124340757727623 Filename: 7e9b_ag_C_ab_L_H_unrelaxed_rank_029_alphafold2_multimer_v3_model_5_seed_002_2024.pdb\n",
      "AbEpiScore-1.0 0.02203046716749668 Filename: 7e9b_ag_C_ab_L_H_unrelaxed_rank_016_alphafold2_multimer_v3_model_3_seed_002_2024.pdb\n",
      "AbEpiScore-1.0 0.021985625848174095 Filename: 7e9b_ag_C_ab_L_H_unrelaxed_rank_017_alphafold2_multimer_v3_model_3_seed_004_2024.pdb\n",
      "AbEpiScore-1.0 0.0218549445271492 Filename: 7e9b_ag_C_ab_L_H_unrelaxed_rank_023_alphafold2_multimer_v3_model_5_seed_000_2024.pdb\n",
      "AbEpiScore-1.0 0.02172102779150009 Filename: 7e9b_ag_C_ab_L_H_unrelaxed_rank_013_alphafold2_multimer_v3_model_1_seed_001_2024.pdb\n",
      "AbEpiScore-1.0 0.021696606650948524 Filename: 7e9b_ag_C_ab_L_H_unrelaxed_rank_011_alphafold2_multimer_v3_model_1_seed_002_2024.pdb\n"
     ]
    }
   ],
   "source": [
    "# compute sorted AbEpiscore-1.0 scores + structure filenames in descending order (higher score = better Ab-Ag interface)\n",
    "abepiscore_scores, filepaths = eval_abags.abepiscore()\n",
    "idxs = torch.argsort(abepiscore_scores, descending=True)\n",
    "for idx in idxs:\n",
    "    abepiscore_score, filepath = abepiscore_scores[idx], filepaths[idx]\n",
    "    filename = filepath.name\n",
    "    print(f\"AbEpiScore-1.0 {abepiscore_score} Filename: {filename}\")\n"
   ]
  },
  {
   "cell_type": "markdown",
   "metadata": {},
   "source": [
    "## AbEpiTarget-1.0"
   ]
  },
  {
   "cell_type": "code",
   "execution_count": 25,
   "metadata": {},
   "outputs": [
    {
     "name": "stdout",
     "output_type": "stream",
     "text": [
      "Running AbEpiTarget-1.0...\n",
      "Running AbEpiTarget-1.0... DONE\n",
      "AbEpiTarget-1.0 0.3070771098136902 Filename: 7e9b_ag_C_ab_L_H_unrelaxed_rank_004_alphafold2_multimer_v3_model_4_seed_000_2024.pdb\n",
      "AbEpiTarget-1.0 0.28400200605392456 Filename: 7e9b_ag_C_ab_L_H_unrelaxed_rank_005_alphafold2_multimer_v3_model_4_seed_004_2024.pdb\n",
      "AbEpiTarget-1.0 0.25941163301467896 Filename: 7e9b_ag_C_ab_L_H_unrelaxed_rank_003_alphafold2_multimer_v3_model_3_seed_001_2024.pdb\n",
      "AbEpiTarget-1.0 0.25351059436798096 Filename: 7e9b_ag_C_ab_L_H_unrelaxed_rank_007_alphafold2_multimer_v3_model_4_seed_005_2024.pdb\n",
      "AbEpiTarget-1.0 0.24682918190956116 Filename: 7e9b_ag_C_ab_L_H_unrelaxed_rank_019_alphafold2_multimer_v3_model_5_seed_005_2024.pdb\n",
      "AbEpiTarget-1.0 0.23960578441619873 Filename: 7e9b_ag_C_ab_L_H_unrelaxed_rank_002_alphafold2_multimer_v3_model_3_seed_003_2024.pdb\n",
      "AbEpiTarget-1.0 0.23905710875988007 Filename: 7e9b_ag_C_ab_L_H_unrelaxed_rank_006_alphafold2_multimer_v3_model_4_seed_001_2024.pdb\n",
      "AbEpiTarget-1.0 0.22751200199127197 Filename: 7e9b_ag_C_ab_L_H_unrelaxed_rank_001_alphafold2_multimer_v3_model_3_seed_000_2024.pdb\n",
      "AbEpiTarget-1.0 0.20273423194885254 Filename: 7e9b_ag_C_ab_L_H_unrelaxed_rank_029_alphafold2_multimer_v3_model_5_seed_002_2024.pdb\n",
      "AbEpiTarget-1.0 0.2022731602191925 Filename: 7e9b_ag_C_ab_L_H_unrelaxed_rank_021_alphafold2_multimer_v3_model_2_seed_003_2024.pdb\n",
      "AbEpiTarget-1.0 0.2017296850681305 Filename: 7e9b_ag_C_ab_L_H_unrelaxed_rank_020_alphafold2_multimer_v3_model_2_seed_000_2024.pdb\n",
      "AbEpiTarget-1.0 0.20132192969322205 Filename: 7e9b_ag_C_ab_L_H_unrelaxed_rank_025_alphafold2_multimer_v3_model_5_seed_003_2024.pdb\n",
      "AbEpiTarget-1.0 0.2007950246334076 Filename: 7e9b_ag_C_ab_L_H_unrelaxed_rank_022_alphafold2_multimer_v3_model_5_seed_001_2024.pdb\n",
      "AbEpiTarget-1.0 0.1996905505657196 Filename: 7e9b_ag_C_ab_L_H_unrelaxed_rank_026_alphafold2_multimer_v3_model_2_seed_004_2024.pdb\n",
      "AbEpiTarget-1.0 0.19889910519123077 Filename: 7e9b_ag_C_ab_L_H_unrelaxed_rank_008_alphafold2_multimer_v3_model_4_seed_002_2024.pdb\n",
      "AbEpiTarget-1.0 0.19412432610988617 Filename: 7e9b_ag_C_ab_L_H_unrelaxed_rank_018_alphafold2_multimer_v3_model_1_seed_000_2024.pdb\n",
      "AbEpiTarget-1.0 0.18836693465709686 Filename: 7e9b_ag_C_ab_L_H_unrelaxed_rank_023_alphafold2_multimer_v3_model_5_seed_000_2024.pdb\n",
      "AbEpiTarget-1.0 0.1866517961025238 Filename: 7e9b_ag_C_ab_L_H_unrelaxed_rank_010_alphafold2_multimer_v3_model_1_seed_004_2024.pdb\n",
      "AbEpiTarget-1.0 0.1826174110174179 Filename: 7e9b_ag_C_ab_L_H_unrelaxed_rank_014_alphafold2_multimer_v3_model_4_seed_003_2024.pdb\n",
      "AbEpiTarget-1.0 0.18104644119739532 Filename: 7e9b_ag_C_ab_L_H_unrelaxed_rank_028_alphafold2_multimer_v3_model_2_seed_002_2024.pdb\n",
      "AbEpiTarget-1.0 0.16982631385326385 Filename: 7e9b_ag_C_ab_L_H_unrelaxed_rank_012_alphafold2_multimer_v3_model_1_seed_005_2024.pdb\n",
      "AbEpiTarget-1.0 0.16389012336730957 Filename: 7e9b_ag_C_ab_L_H_unrelaxed_rank_024_alphafold2_multimer_v3_model_5_seed_004_2024.pdb\n",
      "AbEpiTarget-1.0 0.16111424565315247 Filename: 7e9b_ag_C_ab_L_H_unrelaxed_rank_015_alphafold2_multimer_v3_model_1_seed_003_2024.pdb\n",
      "AbEpiTarget-1.0 0.1517379730939865 Filename: 7e9b_ag_C_ab_L_H_unrelaxed_rank_027_alphafold2_multimer_v3_model_2_seed_001_2024.pdb\n",
      "AbEpiTarget-1.0 0.15101315081119537 Filename: 7e9b_ag_C_ab_L_H_unrelaxed_rank_030_alphafold2_multimer_v3_model_2_seed_005_2024.pdb\n",
      "AbEpiTarget-1.0 0.14064501225948334 Filename: 7e9b_ag_C_ab_L_H_unrelaxed_rank_011_alphafold2_multimer_v3_model_1_seed_002_2024.pdb\n",
      "AbEpiTarget-1.0 0.13820883631706238 Filename: 7e9b_ag_C_ab_L_H_unrelaxed_rank_009_alphafold2_multimer_v3_model_3_seed_005_2024.pdb\n",
      "AbEpiTarget-1.0 0.12190256267786026 Filename: 7e9b_ag_C_ab_L_H_unrelaxed_rank_017_alphafold2_multimer_v3_model_3_seed_004_2024.pdb\n",
      "AbEpiTarget-1.0 0.11481213569641113 Filename: 7e9b_ag_C_ab_L_H_unrelaxed_rank_016_alphafold2_multimer_v3_model_3_seed_002_2024.pdb\n",
      "AbEpiTarget-1.0 0.09899089485406876 Filename: 7e9b_ag_C_ab_L_H_unrelaxed_rank_013_alphafold2_multimer_v3_model_1_seed_001_2024.pdb\n"
     ]
    }
   ],
   "source": [
    "# compute sorted AbEpiTarget-1.0 scores + structure filenames in descending order (higher score = higher antibody target probability) \n",
    "abepitarget_scores, filepaths = eval_abags.abepitarget()\n",
    "idxs = torch.argsort(abepitarget_scores, descending=True)\n",
    "for idx in idxs:\n",
    "    abepitarget_score, filepath = abepitarget_scores[idx], filepaths[idx]\n",
    "    filename = filepath.name\n",
    "    print(f\"AbEpiTarget-1.0 {abepitarget_score} Filename: {filename}\")"
   ]
  },
  {
   "cell_type": "markdown",
   "metadata": {},
   "source": [
    "## AbEpiScore-1.0 + AbEpiTarget-1.0 to output .csv"
   ]
  },
  {
   "cell_type": "code",
   "execution_count": 26,
   "metadata": {},
   "outputs": [
    {
     "name": "stdout",
     "output_type": "stream",
     "text": [
      "Running AbEpiScore-1.0\n",
      "Running AbEpiScore-1.0... DONE\n",
      "Running AbEpiTarget-1.0...\n",
      "Running AbEpiTarget-1.0... DONE\n",
      "Creating output files...\n",
      "Creating output files... DONE\n"
     ]
    }
   ],
   "source": [
    "# run abepiscore-1.0 and abepitarget-1.0 for each encoded structure\n",
    "# save three output files in output directory (see .README for more details on output files)\n",
    "outdir = Path.cwd() / \"output\"\n",
    "eval_abags.predict(outdir)\n",
    "# 1. output.csv: FileName, AbEpiScore-1.0, AbEpiTarget-1.0 (Score are not sorted)\n",
    "# 2. interface.csv: FileName,EpitopeResidue,ParatopeResidue\n",
    "# 3. abag_sequence_data.fasta: Sequences identified in PDB/CIF files in fasta format. "
   ]
  }
 ],
 "metadata": {
  "kernelspec": {
   "display_name": "esm_if1",
   "language": "python",
   "name": "python3"
  },
  "language_info": {
   "codemirror_mode": {
    "name": "ipython",
    "version": 3
   },
   "file_extension": ".py",
   "mimetype": "text/x-python",
   "name": "python",
   "nbconvert_exporter": "python",
   "pygments_lexer": "ipython3",
   "version": "3.9.15"
  }
 },
 "nbformat": 4,
 "nbformat_minor": 2
}
